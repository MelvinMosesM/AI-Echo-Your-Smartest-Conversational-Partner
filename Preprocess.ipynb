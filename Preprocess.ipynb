{
 "cells": [
  {
   "cell_type": "code",
   "execution_count": 1,
   "id": "704549f7",
   "metadata": {},
   "outputs": [
    {
     "name": "stdout",
     "output_type": "stream",
     "text": [
      "Collecting nltk\n",
      "  Downloading nltk-3.9.1-py3-none-any.whl.metadata (2.9 kB)\n",
      "Requirement already satisfied: click in c:\\users\\this pc\\appdata\\local\\programs\\python\\python313\\lib\\site-packages (from nltk) (8.2.1)\n",
      "Requirement already satisfied: joblib in c:\\users\\this pc\\appdata\\local\\programs\\python\\python313\\lib\\site-packages (from nltk) (1.5.1)\n",
      "Collecting regex>=2021.8.3 (from nltk)\n",
      "  Downloading regex-2025.8.29-cp313-cp313-win_amd64.whl.metadata (41 kB)\n",
      "Requirement already satisfied: tqdm in c:\\users\\this pc\\appdata\\local\\programs\\python\\python313\\lib\\site-packages (from nltk) (4.67.1)\n",
      "Requirement already satisfied: colorama in c:\\users\\this pc\\appdata\\roaming\\python\\python313\\site-packages (from click->nltk) (0.4.6)\n",
      "Downloading nltk-3.9.1-py3-none-any.whl (1.5 MB)\n",
      "   ---------------------------------------- 0.0/1.5 MB ? eta -:--:--\n",
      "   ---------------------------------------- 0.0/1.5 MB ? eta -:--:--\n",
      "   --------------------------- ------------ 1.0/1.5 MB 5.2 MB/s eta 0:00:01\n",
      "   ---------------------------------------- 1.5/1.5 MB 4.8 MB/s eta 0:00:00\n",
      "Downloading regex-2025.8.29-cp313-cp313-win_amd64.whl (275 kB)\n",
      "Installing collected packages: regex, nltk\n",
      "Successfully installed nltk-3.9.1 regex-2025.8.29\n"
     ]
    },
    {
     "name": "stderr",
     "output_type": "stream",
     "text": [
      "\n",
      "[notice] A new release of pip is available: 25.0.1 -> 25.2\n",
      "[notice] To update, run: python.exe -m pip install --upgrade pip\n"
     ]
    }
   ],
   "source": [
    "!pip install nltk"
   ]
  },
  {
   "cell_type": "code",
   "execution_count": 2,
   "id": "283fcb71",
   "metadata": {},
   "outputs": [
    {
     "name": "stdout",
     "output_type": "stream",
     "text": [
      "Collecting langdetect\n",
      "  Downloading langdetect-1.0.9.tar.gz (981 kB)\n",
      "     ---------------------------------------- 0.0/981.5 kB ? eta -:--:--\n",
      "     ------------------------------ ------- 786.4/981.5 kB 4.2 MB/s eta 0:00:01\n",
      "     -------------------------------------- 981.5/981.5 kB 4.3 MB/s eta 0:00:00\n",
      "  Installing build dependencies: started\n",
      "  Installing build dependencies: finished with status 'done'\n",
      "  Getting requirements to build wheel: started\n",
      "  Getting requirements to build wheel: finished with status 'done'\n",
      "  Preparing metadata (pyproject.toml): started\n",
      "  Preparing metadata (pyproject.toml): finished with status 'done'\n",
      "Requirement already satisfied: six in c:\\users\\this pc\\appdata\\roaming\\python\\python313\\site-packages (from langdetect) (1.17.0)\n",
      "Building wheels for collected packages: langdetect\n",
      "  Building wheel for langdetect (pyproject.toml): started\n",
      "  Building wheel for langdetect (pyproject.toml): finished with status 'done'\n",
      "  Created wheel for langdetect: filename=langdetect-1.0.9-py3-none-any.whl size=993363 sha256=75e4b6ed1b6c04d873357725e034359250940a0d954de4763f2dacdb93cab665\n",
      "  Stored in directory: c:\\users\\this pc\\appdata\\local\\pip\\cache\\wheels\\eb\\87\\25\\2dddf1c94e1786054e25022ec5530bfed52bad86d882999c48\n",
      "Successfully built langdetect\n",
      "Installing collected packages: langdetect\n",
      "Successfully installed langdetect-1.0.9\n"
     ]
    },
    {
     "name": "stderr",
     "output_type": "stream",
     "text": [
      "\n",
      "[notice] A new release of pip is available: 25.0.1 -> 25.2\n",
      "[notice] To update, run: python.exe -m pip install --upgrade pip\n"
     ]
    }
   ],
   "source": [
    "!pip install langdetect"
   ]
  },
  {
   "cell_type": "code",
   "execution_count": 3,
   "id": "00981bdb",
   "metadata": {},
   "outputs": [],
   "source": [
    "import pandas as pd\n",
    "import numpy as np\n",
    "import re\n",
    "import nltk\n",
    "from nltk.corpus import stopwords\n",
    "from nltk.stem import WordNetLemmatizer\n",
    "from langdetect import detect, DetectorFactory\n",
    "\n",
    "# Ensure consistent results from langdetect\n",
    "DetectorFactory.seed = 0"
   ]
  },
  {
   "cell_type": "code",
   "execution_count": 5,
   "id": "3860b3c2",
   "metadata": {},
   "outputs": [
    {
     "data": {
      "text/html": [
       "<div>\n",
       "<style scoped>\n",
       "    .dataframe tbody tr th:only-of-type {\n",
       "        vertical-align: middle;\n",
       "    }\n",
       "\n",
       "    .dataframe tbody tr th {\n",
       "        vertical-align: top;\n",
       "    }\n",
       "\n",
       "    .dataframe thead th {\n",
       "        text-align: right;\n",
       "    }\n",
       "</style>\n",
       "<table border=\"1\" class=\"dataframe\">\n",
       "  <thead>\n",
       "    <tr style=\"text-align: right;\">\n",
       "      <th></th>\n",
       "      <th>date</th>\n",
       "      <th>title</th>\n",
       "      <th>review</th>\n",
       "      <th>rating</th>\n",
       "      <th>username</th>\n",
       "      <th>helpful_votes</th>\n",
       "      <th>review_length</th>\n",
       "      <th>platform</th>\n",
       "      <th>language</th>\n",
       "      <th>location</th>\n",
       "      <th>version</th>\n",
       "      <th>verified_purchase</th>\n",
       "    </tr>\n",
       "  </thead>\n",
       "  <tbody>\n",
       "    <tr>\n",
       "      <th>0</th>\n",
       "      <td>2024-12-24</td>\n",
       "      <td>East list local interesting far magazine father.</td>\n",
       "      <td>Impressive natural language understanding. Alm...</td>\n",
       "      <td>1</td>\n",
       "      <td>darren55</td>\n",
       "      <td>25</td>\n",
       "      <td>9</td>\n",
       "      <td>Google Play</td>\n",
       "      <td>de</td>\n",
       "      <td>Nepal</td>\n",
       "      <td>2.0.4</td>\n",
       "      <td>No</td>\n",
       "    </tr>\n",
       "    <tr>\n",
       "      <th>1</th>\n",
       "      <td>2024-07-26</td>\n",
       "      <td>Road determine picture figure hard experience ...</td>\n",
       "      <td>Sometimes gives wrong answers or outdated info...</td>\n",
       "      <td>2</td>\n",
       "      <td>davistyler</td>\n",
       "      <td>35</td>\n",
       "      <td>14</td>\n",
       "      <td>Flipkart</td>\n",
       "      <td>es</td>\n",
       "      <td>Panama</td>\n",
       "      <td>2.6.5</td>\n",
       "      <td>No</td>\n",
       "    </tr>\n",
       "    <tr>\n",
       "      <th>2</th>\n",
       "      <td>2024-08-22</td>\n",
       "      <td>Policy social past analysis whole.</td>\n",
       "      <td>Great tool for generating content quickly. Int...</td>\n",
       "      <td>5</td>\n",
       "      <td>andrea59</td>\n",
       "      <td>94</td>\n",
       "      <td>10</td>\n",
       "      <td>App Store</td>\n",
       "      <td>es</td>\n",
       "      <td>Denmark</td>\n",
       "      <td>4.2.2</td>\n",
       "      <td>No</td>\n",
       "    </tr>\n",
       "    <tr>\n",
       "      <th>3</th>\n",
       "      <td>2025-04-24</td>\n",
       "      <td>News financial billion four foreign.</td>\n",
       "      <td>Great tool for generating content quickly. Sta...</td>\n",
       "      <td>3</td>\n",
       "      <td>dcooper</td>\n",
       "      <td>50</td>\n",
       "      <td>15</td>\n",
       "      <td>Amazon</td>\n",
       "      <td>de</td>\n",
       "      <td>Brunei Darussalam</td>\n",
       "      <td>4.4.2</td>\n",
       "      <td>No</td>\n",
       "    </tr>\n",
       "    <tr>\n",
       "      <th>4</th>\n",
       "      <td>2024-08-15</td>\n",
       "      <td>To skill she case sing stop likely.</td>\n",
       "      <td>Excellent for language translation and grammar...</td>\n",
       "      <td>1</td>\n",
       "      <td>christine79</td>\n",
       "      <td>33</td>\n",
       "      <td>11</td>\n",
       "      <td>Flipkart</td>\n",
       "      <td>fr</td>\n",
       "      <td>United States Minor Outlying Islands</td>\n",
       "      <td>5.1.1</td>\n",
       "      <td>Yes</td>\n",
       "    </tr>\n",
       "  </tbody>\n",
       "</table>\n",
       "</div>"
      ],
      "text/plain": [
       "         date                                              title  \\\n",
       "0  2024-12-24   East list local interesting far magazine father.   \n",
       "1  2024-07-26  Road determine picture figure hard experience ...   \n",
       "2  2024-08-22                 Policy social past analysis whole.   \n",
       "3  2025-04-24               News financial billion four foreign.   \n",
       "4  2024-08-15                To skill she case sing stop likely.   \n",
       "\n",
       "                                              review  rating     username  \\\n",
       "0  Impressive natural language understanding. Alm...       1     darren55   \n",
       "1  Sometimes gives wrong answers or outdated info...       2   davistyler   \n",
       "2  Great tool for generating content quickly. Int...       5     andrea59   \n",
       "3  Great tool for generating content quickly. Sta...       3      dcooper   \n",
       "4  Excellent for language translation and grammar...       1  christine79   \n",
       "\n",
       "   helpful_votes  review_length     platform language  \\\n",
       "0             25              9  Google Play       de   \n",
       "1             35             14     Flipkart       es   \n",
       "2             94             10    App Store       es   \n",
       "3             50             15       Amazon       de   \n",
       "4             33             11     Flipkart       fr   \n",
       "\n",
       "                               location version verified_purchase  \n",
       "0                                 Nepal   2.0.4                No  \n",
       "1                                Panama   2.6.5                No  \n",
       "2                               Denmark   4.2.2                No  \n",
       "3                     Brunei Darussalam   4.4.2                No  \n",
       "4  United States Minor Outlying Islands   5.1.1               Yes  "
      ]
     },
     "execution_count": 5,
     "metadata": {},
     "output_type": "execute_result"
    }
   ],
   "source": [
    "# Load dataset\n",
    "df = pd.read_csv(\"chatgpt_reviews.csv\")\n",
    "df.head()"
   ]
  },
  {
   "cell_type": "code",
   "execution_count": 6,
   "id": "bdc153ab",
   "metadata": {},
   "outputs": [
    {
     "data": {
      "text/plain": [
       "date                 0\n",
       "title                0\n",
       "review               0\n",
       "rating               0\n",
       "username             0\n",
       "helpful_votes        0\n",
       "review_length        0\n",
       "platform             0\n",
       "language             0\n",
       "location             0\n",
       "version              0\n",
       "verified_purchase    0\n",
       "dtype: int64"
      ]
     },
     "execution_count": 6,
     "metadata": {},
     "output_type": "execute_result"
    }
   ],
   "source": [
    "df.isnull().sum()"
   ]
  },
  {
   "cell_type": "code",
   "execution_count": 7,
   "id": "3a6ed922",
   "metadata": {},
   "outputs": [],
   "source": [
    "# Drop missing reviews/ratings\n",
    "df = df.dropna(subset=[\"review\", \"rating\"])\n",
    "\n",
    "# Fill missing helpful_votes with 0\n",
    "df[\"helpful_votes\"] = df[\"helpful_votes\"].fillna(0)\n",
    "\n",
    "# Fill missing platform/location/version with \"Unknown\"\n",
    "df[[\"platform\", \"location\", \"version\"]] = df[[\"platform\", \"location\", \"version\"]].fillna(\"Unknown\")\n"
   ]
  },
  {
   "cell_type": "code",
   "execution_count": 9,
   "id": "bfc18e92",
   "metadata": {},
   "outputs": [],
   "source": [
    "# --- Language Detection ---\n",
    "def detect_language(text):\n",
    "    try:\n",
    "        return detect(text)\n",
    "    except:\n",
    "        return \"unknown\"\n",
    "\n",
    "df[\"language_detected\"] = df[\"review\"].apply(detect_language)"
   ]
  },
  {
   "cell_type": "code",
   "execution_count": 10,
   "id": "88f8f781",
   "metadata": {},
   "outputs": [],
   "source": [
    "# Keep only English reviews (optional: you can also keep multilingual and train separately)\n",
    "df = df[df[\"language_detected\"] == \"en\"]"
   ]
  },
  {
   "cell_type": "code",
   "execution_count": 12,
   "id": "3c035f0d",
   "metadata": {},
   "outputs": [
    {
     "name": "stderr",
     "output_type": "stream",
     "text": [
      "[nltk_data] Downloading package stopwords to C:\\Users\\This\n",
      "[nltk_data]     PC\\AppData\\Roaming\\nltk_data...\n",
      "[nltk_data]   Package stopwords is already up-to-date!\n",
      "[nltk_data] Downloading package wordnet to C:\\Users\\This\n",
      "[nltk_data]     PC\\AppData\\Roaming\\nltk_data...\n"
     ]
    }
   ],
   "source": [
    "# --- Text Cleaning ---\n",
    "nltk.download(\"stopwords\")\n",
    "nltk.download(\"wordnet\")\n",
    "\n",
    "stop_words = set(stopwords.words(\"english\"))\n",
    "lemmatizer = WordNetLemmatizer()\n",
    "\n",
    "def clean_text(text):\n",
    "    text = text.lower()\n",
    "    text = re.sub(r\"[^a-z\\s]\", \"\", text)   # remove punctuation/special chars\n",
    "    text = re.sub(r\"\\s+\", \" \", text).strip()   # normalize whitespace\n",
    "    tokens = text.split()\n",
    "    tokens = [lemmatizer.lemmatize(word) for word in tokens if word not in stop_words]\n",
    "    return \" \".join(tokens)\n",
    "\n",
    "df[\"clean_review\"] = df[\"review\"].apply(clean_text)"
   ]
  },
  {
   "cell_type": "code",
   "execution_count": 13,
   "id": "7fccd61c",
   "metadata": {},
   "outputs": [],
   "source": [
    "# --- Derived Features ---\n",
    "df[\"review_length\"] = df[\"review\"].apply(lambda x: len(str(x).split()))\n",
    "df[\"helpful_flag\"] = df[\"helpful_votes\"].apply(lambda x: 1 if x > 10 else 0)\n",
    "df[\"verified_flag\"] = df[\"verified_purchase\"].apply(lambda x: 1 if str(x).lower() == \"yes\" else 0)"
   ]
  },
  {
   "cell_type": "code",
   "execution_count": 14,
   "id": "04636c9b",
   "metadata": {},
   "outputs": [],
   "source": [
    "# --- Sentiment Labels ---\n",
    "def map_sentiment(rating):\n",
    "    if rating >= 4:\n",
    "        return \"positive\"\n",
    "    elif rating == 3:\n",
    "        return \"neutral\"\n",
    "    else:\n",
    "        return \"negative\"\n",
    "\n",
    "df[\"sentiment\"] = df[\"rating\"].apply(map_sentiment)"
   ]
  },
  {
   "cell_type": "code",
   "execution_count": 15,
   "id": "8727127b",
   "metadata": {},
   "outputs": [
    {
     "name": "stdout",
     "output_type": "stream",
     "text": [
      "✅ Preprocessed dataset saved as cleaned_reviews.csv\n",
      "         date                                              title  \\\n",
      "0  2024-12-24   East list local interesting far magazine father.   \n",
      "1  2024-07-26  Road determine picture figure hard experience ...   \n",
      "2  2024-08-22                 Policy social past analysis whole.   \n",
      "3  2025-04-24               News financial billion four foreign.   \n",
      "4  2024-08-15                To skill she case sing stop likely.   \n",
      "\n",
      "                                              review  rating     username  \\\n",
      "0  Impressive natural language understanding. Alm...       1     darren55   \n",
      "1  Sometimes gives wrong answers or outdated info...       2   davistyler   \n",
      "2  Great tool for generating content quickly. Int...       5     andrea59   \n",
      "3  Great tool for generating content quickly. Sta...       3      dcooper   \n",
      "4  Excellent for language translation and grammar...       1  christine79   \n",
      "\n",
      "   helpful_votes  review_length     platform language  \\\n",
      "0             25              9  Google Play       de   \n",
      "1             35             14     Flipkart       es   \n",
      "2             94             10    App Store       es   \n",
      "3             50             15       Amazon       de   \n",
      "4             33             11     Flipkart       fr   \n",
      "\n",
      "                               location version verified_purchase  \\\n",
      "0                                 Nepal   2.0.4                No   \n",
      "1                                Panama   2.6.5                No   \n",
      "2                               Denmark   4.2.2                No   \n",
      "3                     Brunei Darussalam   4.4.2                No   \n",
      "4  United States Minor Outlying Islands   5.1.1               Yes   \n",
      "\n",
      "  language_detected                                       clean_review  \\\n",
      "0                en  impressive natural language understanding almo...   \n",
      "1                en  sometimes give wrong answer outdated info stud...   \n",
      "2                en  great tool generating content quickly interest...   \n",
      "3                en  great tool generating content quickly start me...   \n",
      "4                en  excellent language translation grammar fix pri...   \n",
      "\n",
      "   helpful_flag  verified_flag sentiment  \n",
      "0             1              0  negative  \n",
      "1             1              0  negative  \n",
      "2             1              0  positive  \n",
      "3             1              0   neutral  \n",
      "4             1              1  negative  \n"
     ]
    }
   ],
   "source": [
    "# --- Save Preprocessed Data ---\n",
    "df.to_csv(\"cleaned_reviews.csv\", index=False)\n",
    "print(\"✅ Preprocessed dataset saved as cleaned_reviews.csv\")\n",
    "print(df.head())"
   ]
  }
 ],
 "metadata": {
  "kernelspec": {
   "display_name": "Python 3",
   "language": "python",
   "name": "python3"
  },
  "language_info": {
   "codemirror_mode": {
    "name": "ipython",
    "version": 3
   },
   "file_extension": ".py",
   "mimetype": "text/x-python",
   "name": "python",
   "nbconvert_exporter": "python",
   "pygments_lexer": "ipython3",
   "version": "3.13.3"
  }
 },
 "nbformat": 4,
 "nbformat_minor": 5
}
